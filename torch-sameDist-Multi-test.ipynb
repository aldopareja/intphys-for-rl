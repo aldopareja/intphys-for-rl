{
 "cells": [
  {
   "cell_type": "code",
   "execution_count": 21,
   "id": "79a982fb-cd22-4f23-899c-8aa13c75192a",
   "metadata": {},
   "outputs": [],
   "source": [
    "import torch\n",
    "import numpy as np"
   ]
  },
  {
   "cell_type": "code",
   "execution_count": 19,
   "id": "4d673642-549d-4503-8e83-87e17e143858",
   "metadata": {},
   "outputs": [
    {
     "data": {
      "text/plain": [
       "tensor([[[-1.2479e+00, -6.7383e+04],\n",
       "         [-2.6813e+00, -1.2371e+01],\n",
       "         [-1.8561e-01, -9.0327e-01],\n",
       "         [-2.4457e-01, -1.0101e+01],\n",
       "         [-1.4895e+00, -4.1650e-01]],\n",
       "\n",
       "        [[-2.0416e+00, -5.2498e+01],\n",
       "         [-2.1067e-01, -3.2064e+01],\n",
       "         [-9.1517e-01, -1.6738e+00],\n",
       "         [-1.3114e+00, -8.0311e-01],\n",
       "         [-4.5645e-01, -1.2694e+00]],\n",
       "\n",
       "        [[-9.2305e-01, -1.6899e+00],\n",
       "         [-1.6812e+00, -7.6935e-01],\n",
       "         [-9.0025e-02, -1.6176e+00],\n",
       "         [-1.4707e+03,  1.5584e+00],\n",
       "         [-8.5955e+00, -1.5195e+00]]])"
      ]
     },
     "execution_count": 19,
     "metadata": {},
     "output_type": "execute_result"
    }
   ],
   "source": [
    "normal = torch.distributions.Normal(torch.randn(3,5,2),torch.rand(3,5,2))\n",
    "torch.distributions.independent.Independent(normal,1).log_prob(torch.tensor([0.0,0.0]))\n",
    "normal.log_prob(torch.tensor([0.0,0.0]))"
   ]
  },
  {
   "cell_type": "code",
   "execution_count": 168,
   "id": "84964b32-a0d5-4ee1-8c7d-cdd0d0623dc8",
   "metadata": {},
   "outputs": [
    {
     "data": {
      "text/plain": [
       "torch.Size([10, 3])"
      ]
     },
     "execution_count": 168,
     "metadata": {},
     "output_type": "execute_result"
    }
   ],
   "source": [
    "def sample_sigma_matrix():\n",
    "    t1,t2,t3 = [int(np.random.uniform(-100,100)) for _ in range(3)]\n",
    "    mat = np.array([[t1,0],[t2,t3]]) \n",
    "    return torch.tensor(np.matmul(mat,mat.T) + 0.01*np.eye(2), dtype=torch.float32)\n",
    "\n",
    "sigmas = [sample_sigma_matrix(), \n",
    "          sample_sigma_matrix(),\n",
    "          sample_sigma_matrix()]\n",
    "# sigmas = torch.block_diag(*sigmas)\n",
    "sigmas = torch.stack(sigmas)\n",
    "sigmas = torch.stack([sigmas]*10)\n",
    "\n",
    "\n",
    "normal = torch.distributions.MultivariateNormal(loc=torch.randn((10,3,2),dtype=torch.float32), \n",
    "                                                covariance_matrix=sigmas)\n",
    "normal.log_prob(torch.zeros(2)).shape"
   ]
  },
  {
   "cell_type": "code",
   "execution_count": null,
   "id": "2e4b28ab-a6d5-4325-878d-91e5578159b3",
   "metadata": {},
   "outputs": [],
   "source": [
    "num_mixtures = 2\n",
    "num_vars = 3\n",
    "batch_size = 100\n",
    "output_size = num_vars + num_vars*(num_vars+1)/2 + 1\n",
    "\n",
    "output = [torch.rand(batch_size, output_size)]*num_mixtures\n",
    "\n"
   ]
  },
  {
   "cell_type": "code",
   "execution_count": 95,
   "id": "01ed0594-9a45-48b0-8872-03ba34e24bbf",
   "metadata": {},
   "outputs": [
    {
     "data": {
      "text/plain": [
       "torch.Size([1000, 90, 10])"
      ]
     },
     "execution_count": 95,
     "metadata": {},
     "output_type": "execute_result"
    }
   ],
   "source": [
    "import math\n",
    "\n",
    "d_model = 10\n",
    "max_len = 100\n",
    "\n",
    "position = torch.arange(max_len).unsqueeze(1)\n",
    "div_term = torch.exp(torch.arange(0, d_model, 2) * (-math.log(10000.0) / d_model))\n",
    "pe = torch.zeros(1, max_len, d_model)\n",
    "pe[0, :, 0::2] = torch.sin(position * div_term)\n",
    "pe[0, :, 1::2] = torch.cos(position * div_term)\n",
    "\n",
    "pe.shape\n",
    "\n",
    "x = torch.rand(1000, 90, 10)\n",
    "(x+ pe[0, :90]).shape\n"
   ]
  },
  {
   "cell_type": "code",
   "execution_count": 169,
   "id": "6ba94495-1f98-4fbf-9e56-40d5fc3758b2",
   "metadata": {},
   "outputs": [
    {
     "data": {
      "text/plain": [
       "tensor([[[[7.4539e-01, 3.5683e-01, 5.7106e-01, 3.2024e-01],\n",
       "          [3.5683e-01, 3.7715e-01, 4.8918e-01, 2.3793e-01],\n",
       "          [5.7106e-01, 4.8918e-01, 1.2830e+00, 7.6329e-01],\n",
       "          [3.2024e-01, 2.3793e-01, 7.6329e-01, 9.7264e-01]],\n",
       "\n",
       "         [[7.5084e-01, 2.3949e-01, 4.6004e-02, 8.5122e-01],\n",
       "          [2.3949e-01, 1.0196e+00, 5.0611e-01, 4.5203e-01],\n",
       "          [4.6004e-02, 5.0611e-01, 5.2918e-01, 1.6880e-01],\n",
       "          [8.5122e-01, 4.5203e-01, 1.6880e-01, 1.0864e+00]]],\n",
       "\n",
       "\n",
       "        [[[4.5210e-02, 1.9557e-01, 1.5964e-01, 1.5653e-01],\n",
       "          [1.9557e-01, 1.6113e+00, 1.4835e+00, 8.9017e-01],\n",
       "          [1.5964e-01, 1.4835e+00, 1.6993e+00, 1.3236e+00],\n",
       "          [1.5653e-01, 8.9017e-01, 1.3236e+00, 2.1124e+00]],\n",
       "\n",
       "         [[9.8831e-02, 2.7721e-01, 5.0725e-02, 5.0823e-02],\n",
       "          [2.7721e-01, 9.5176e-01, 4.4258e-01, 1.4724e-01],\n",
       "          [5.0725e-02, 4.4258e-01, 5.9737e-01, 2.5958e-01],\n",
       "          [5.0823e-02, 1.4724e-01, 2.5958e-01, 1.1063e+00]]],\n",
       "\n",
       "\n",
       "        [[[8.1448e-03, 4.4835e-02, 1.1982e-02, 5.0050e-03],\n",
       "          [4.4835e-02, 6.2960e-01, 6.4549e-01, 4.4562e-01],\n",
       "          [1.1982e-02, 6.4549e-01, 1.5746e+00, 8.9919e-01],\n",
       "          [5.0050e-03, 4.4562e-01, 8.9919e-01, 5.9076e-01]],\n",
       "\n",
       "         [[2.5297e-01, 3.3249e-01, 1.6739e-01, 8.2079e-02],\n",
       "          [3.3249e-01, 5.1879e-01, 2.4225e-01, 1.1519e-01],\n",
       "          [1.6739e-01, 2.4225e-01, 1.6953e-01, 2.7588e-01],\n",
       "          [8.2079e-02, 1.1519e-01, 2.7588e-01, 1.3094e+00]]],\n",
       "\n",
       "\n",
       "        ...,\n",
       "\n",
       "\n",
       "        [[[5.9637e-01, 7.1911e-01, 6.3953e-01, 5.6497e-02],\n",
       "          [7.1911e-01, 8.7084e-01, 8.2020e-01, 1.0487e-01],\n",
       "          [6.3953e-01, 8.2020e-01, 1.3552e+00, 6.1682e-01],\n",
       "          [5.6497e-02, 1.0487e-01, 6.1682e-01, 1.4864e+00]],\n",
       "\n",
       "         [[4.0460e-04, 1.2262e-02, 8.9203e-03, 1.7200e-02],\n",
       "          [1.2262e-02, 7.9031e-01, 7.2279e-01, 5.8960e-01],\n",
       "          [8.9203e-03, 7.2279e-01, 7.8204e-01, 5.1757e-01],\n",
       "          [1.7200e-02, 5.8960e-01, 5.1757e-01, 1.7168e+00]]],\n",
       "\n",
       "\n",
       "        [[[4.0869e-01, 5.7350e-01, 5.2585e-01, 6.3397e-01],\n",
       "          [5.7350e-01, 8.0481e-01, 7.4307e-01, 8.9336e-01],\n",
       "          [5.2585e-01, 7.4307e-01, 1.9205e+00, 1.5073e+00],\n",
       "          [6.3397e-01, 8.9336e-01, 1.5073e+00, 1.5198e+00]],\n",
       "\n",
       "         [[1.2475e-01, 2.7205e-01, 2.8610e-01, 3.3683e-01],\n",
       "          [2.7205e-01, 9.7162e-01, 9.2110e-01, 1.1927e+00],\n",
       "          [2.8610e-01, 9.2110e-01, 1.4595e+00, 1.2718e+00],\n",
       "          [3.3683e-01, 1.1927e+00, 1.2718e+00, 1.4985e+00]]],\n",
       "\n",
       "\n",
       "        [[[1.9682e-01, 2.2617e-01, 3.4438e-01, 9.0900e-02],\n",
       "          [2.2617e-01, 1.0635e+00, 8.2504e-01, 3.6262e-01],\n",
       "          [3.4438e-01, 8.2504e-01, 1.7244e+00, 3.7804e-01],\n",
       "          [9.0900e-02, 3.6262e-01, 3.7804e-01, 9.0920e-01]],\n",
       "\n",
       "         [[2.1072e-01, 3.9590e-01, 8.7840e-02, 8.4299e-02],\n",
       "          [3.9590e-01, 1.3207e+00, 7.6823e-01, 8.0750e-01],\n",
       "          [8.7840e-02, 7.6823e-01, 8.1362e-01, 8.5195e-01],\n",
       "          [8.4299e-02, 8.0750e-01, 8.5195e-01, 8.9770e-01]]]],\n",
       "       grad_fn=<UnsafeViewBackward0>)"
      ]
     },
     "execution_count": 169,
     "metadata": {},
     "output_type": "execute_result"
    }
   ],
   "source": [
    "batch_size = 1000\n",
    "num_mix = 2\n",
    "x = torch.rand(batch_size,num_mix,10,requires_grad=True)\n",
    "\n",
    "mat_size = [int(math.sqrt(x.shape[-1]*2))]*2\n",
    "mat = torch.zeros(batch_size, num_mix, *mat_size)\n",
    "idx1, idx2 = torch.tril_indices(*mat_size)\n",
    "mat[:,:,idx1,idx2] = x\n",
    "# # # idx = [[j for j in range(1,i+1)] for i in range(1,4+1)]\n",
    "mat.cuda()\n",
    "mat.to(mat.device)\n",
    "mat.matmul(mat.transpose(-2,-1))"
   ]
  },
  {
   "cell_type": "code",
   "execution_count": 173,
   "id": "ca119ec6-9853-4b17-9cc6-d62330adc9b5",
   "metadata": {},
   "outputs": [
    {
     "name": "stdout",
     "output_type": "stream",
     "text": [
      "tensor([[0, 1],\n",
      "        [2, 3]])\n"
     ]
    },
    {
     "data": {
      "text/plain": [
       "tensor([[0, 1, 2, 3]])"
      ]
     },
     "execution_count": 173,
     "metadata": {},
     "output_type": "execute_result"
    }
   ],
   "source": [
    "x = torch.arange(4).reshape(2,2)\n",
    "print(x)\n",
    "x.reshape(-1,4)"
   ]
  }
 ],
 "metadata": {
  "kernelspec": {
   "display_name": "Python 3 (ipykernel)",
   "language": "python",
   "name": "python3"
  },
  "language_info": {
   "codemirror_mode": {
    "name": "ipython",
    "version": 3
   },
   "file_extension": ".py",
   "mimetype": "text/x-python",
   "name": "python",
   "nbconvert_exporter": "python",
   "pygments_lexer": "ipython3",
   "version": "3.10.4"
  }
 },
 "nbformat": 4,
 "nbformat_minor": 5
}
