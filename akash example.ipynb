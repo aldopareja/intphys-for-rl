{
 "cells": [
  {
   "cell_type": "code",
   "execution_count": 1,
   "id": "93084c39-33de-4cbf-9131-773eb17859ba",
   "metadata": {},
   "outputs": [
    {
     "name": "stdout",
     "output_type": "stream",
     "text": [
      "%pylab is deprecated, use %matplotlib inline and import the required libraries.\n",
      "Populating the interactive namespace from numpy and matplotlib\n"
     ]
    }
   ],
   "source": [
    "import jax\n",
    "from flax import linen as nn\n",
    "import jax.numpy as jnp\n",
    "import optax\n",
    "%pylab inline"
   ]
  },
  {
   "cell_type": "code",
   "execution_count": 3,
   "id": "ac75be67-8db6-4b93-8b14-5901ecd3f076",
   "metadata": {},
   "outputs": [],
   "source": [
    "def plot_1d_gaussian(mu, cov):\n",
    "    x = jnp.linspace(0,10,100)\n",
    "    pdf = jax.vmap(jax.scipy.stats.multivariate_normal.logpdf, in_axes=(0,None,None))(x,mu, cov)\n",
    "    plt.plot(x,pdf)"
   ]
  },
  {
   "cell_type": "code",
   "execution_count": null,
   "id": "7018e09e-5e53-48da-8ba7-8b41861f7ff5",
   "metadata": {},
   "outputs": [],
   "source": [
    "x = jnp.linspace(0,1,1000)\n",
    "y = x*0.1\n",
    "samples = jnp.stack([x,y], axis=1)\n",
    "# jax.vmap(jax.scipy.stats.multivariate_normal.logpdf, in_axes=(0,None,None))(samples,jnp.ones(2), jnp.eye(2))\n",
    "# samples = jax.random.multivariate_normal(jax.random.PRNGKey(12346), jnp.array([5]), jnp.array([[10.0]]), shape=(1000,))"
   ]
  },
  {
   "cell_type": "code",
   "execution_count": 26,
   "id": "bc173b52-e211-4e78-9757-6d9aeaea8b01",
   "metadata": {},
   "outputs": [],
   "source": [
    "def gaussian_mixture_logpdf(samples, means, covs):\n",
    "    \n",
    "    normals_log_prob = jax.scipy.stats.multivariate_normal.logpdf(samples, means, covs)\n",
    "    \n",
    "    return normals_log_prob\n",
    "\n",
    "\n",
    "def get_cov_matrices_from_vectors(covariance_terms, num_means, eps):\n",
    "    x = covariance_terms\n",
    "    output_shape = (num_means, num_means)\n",
    "    x = jnp.concatenate([x, x[num_means:][::-1]])\n",
    "    x = x.reshape(output_shape)\n",
    "    x = jnp.triu(x)\n",
    "\n",
    "    eps = jnp.eye(num_means) * eps\n",
    "    cov_matrices = jnp.matmul(x, x.swapaxes(-2,-1)) + eps\n",
    "    return cov_matrices"
   ]
  },
  {
   "cell_type": "code",
   "execution_count": 27,
   "id": "4c602f2f-2604-4f85-b379-9f282a878717",
   "metadata": {},
   "outputs": [],
   "source": [
    "class MultiVariateNormal(nn.Module):\n",
    "    \n",
    "    @nn.compact\n",
    "    def __call__(self, samples, mu, cov_terms):\n",
    "        mu = self.param('mu',\n",
    "                    nn.initializers.constant(1.0), # Initialization function\n",
    "                    (2,)) \n",
    "        cov = self.param('cov',\n",
    "                    nn.initializers.uniform(1.0), # Initialization function\n",
    "                    (3,)) \n",
    "        cov = get_cov_matrices_from_vectors(cov, 2, 1e-5)\n",
    "        return jax.vmap(jax.scipy.stats.multivariate_normal.logpdf, in_axes=(0,None,None))(samples,mu, cov)\n",
    "\n",
    "def update_step(apply_fn, samples, opt_state, params, mu, cov_terms):\n",
    "    def loss(params):\n",
    "        l = apply_fn(params, samples, mu, cov_terms)\n",
    "        return -l.sum()\n",
    "    \n",
    "    l, grads = jax.value_and_grad(loss, has_aux=False)(params)\n",
    "    updates, opt_state = tx.update(grads, opt_state)\n",
    "    params = optax.apply_updates(params, updates)\n",
    "    return opt_state, params, l\n"
   ]
  },
  {
   "cell_type": "code",
   "execution_count": 28,
   "id": "75857d60-0a54-4f3e-a05e-12a94b93b9b3",
   "metadata": {},
   "outputs": [
    {
     "name": "stdout",
     "output_type": "stream",
     "text": [
      "1756.822\n",
      "FrozenDict({\n",
      "    params: {\n",
      "        cov: DeviceArray([0.32980192, 0.7445024 , 0.99040306], dtype=float32),\n",
      "        mu: DeviceArray([1.0100002, 0.9899998], dtype=float32),\n",
      "    },\n",
      "})\n",
      "-4655.073\n",
      "FrozenDict({\n",
      "    params: {\n",
      "        cov: DeviceArray([-2.4385407e-22,  2.8894079e-01,  2.8894471e-02], dtype=float32),\n",
      "        mu: DeviceArray([0.5       , 0.04999998], dtype=float32),\n",
      "    },\n",
      "})\n",
      "-4638.4507\n",
      "FrozenDict({\n",
      "    params: {\n",
      "        cov: DeviceArray([-7.0064923e-45,  2.9573008e-01,  2.9165825e-02], dtype=float32),\n",
      "        mu: DeviceArray([0.4980905, 0.050087 ], dtype=float32),\n",
      "    },\n",
      "})\n",
      "-4654.289\n",
      "FrozenDict({\n",
      "    params: {\n",
      "        cov: DeviceArray([0.        , 0.28956494, 0.02907191], dtype=float32),\n",
      "        mu: DeviceArray([0.50003415, 0.05000147], dtype=float32),\n",
      "    },\n",
      "})\n",
      "-4642.3594\n",
      "FrozenDict({\n",
      "    params: {\n",
      "        cov: DeviceArray([0.        , 0.2924682 , 0.02910043], dtype=float32),\n",
      "        mu: DeviceArray([0.499997  , 0.04999879], dtype=float32),\n",
      "    },\n",
      "})\n",
      "-4655.0674\n",
      "FrozenDict({\n",
      "    params: {\n",
      "        cov: DeviceArray([0.        , 0.2889586 , 0.02889362], dtype=float32),\n",
      "        mu: DeviceArray([0.50000006, 0.04999989], dtype=float32),\n",
      "    },\n",
      "})\n",
      "-4652.3496\n",
      "FrozenDict({\n",
      "    params: {\n",
      "        cov: DeviceArray([0.        , 0.2886541 , 0.02889001], dtype=float32),\n",
      "        mu: DeviceArray([0.5008199 , 0.05013341], dtype=float32),\n",
      "    },\n",
      "})\n",
      "-4643.6147\n",
      "FrozenDict({\n",
      "    params: {\n",
      "        cov: DeviceArray([0.        , 0.28906444, 0.02875612], dtype=float32),\n",
      "        mu: DeviceArray([0.4993823 , 0.05054671], dtype=float32),\n",
      "    },\n",
      "})\n",
      "-4655.057\n",
      "FrozenDict({\n",
      "    params: {\n",
      "        cov: DeviceArray([0.        , 0.2891285 , 0.02894018], dtype=float32),\n",
      "        mu: DeviceArray([0.4998051 , 0.04998362], dtype=float32),\n",
      "    },\n",
      "})\n",
      "-4654.993\n",
      "FrozenDict({\n",
      "    params: {\n",
      "        cov: DeviceArray([0.        , 0.28887585, 0.028943  ], dtype=float32),\n",
      "        mu: DeviceArray([0.49999988, 0.05000001], dtype=float32),\n",
      "    },\n",
      "})\n"
     ]
    }
   ],
   "source": [
    "m = MultiVariateNormal()\n",
    "params = m.init(jax.random.PRNGKey(567), samples, jnp.array([0.5,0.5]), jnp.array([1.0,0.0,1.0]))\n",
    "tx = optax.adam(learning_rate=0.01)\n",
    "opt_state = tx.init(params)\n",
    "\n",
    "mu = params['params']['mu']\n",
    "# mu = jnp.array([0.5,0.5])\n",
    "cov = params['params']['cov']\n",
    "# cov_matrix = get_cov_matrices_from_vectors(cov[None,None], 2, 1e-5)[0,0]\n",
    "# cov_matrix = jnp.array([[0.7,0.1],[0.1,0.1]]) + 1e-5 * jnp.eye(2)\n",
    "for i in range(10000):\n",
    "    opt_state, params, l = jax.jit(update_step, static_argnums=(0,))(m.apply, samples, opt_state, params, jnp.array([0.5,0.5]), jnp.array([1.0,0.0,1.0]))\n",
    "    # opt_state, params, l = update_step(m.apply, samples, opt_state, params, jnp.array([0.5,0.5]), jnp.array([1.0,0.0,1.0]))\n",
    "    if i % 1000 == 0:\n",
    "        print(l)\n",
    "        print(params)\n"
   ]
  },
  {
   "cell_type": "code",
   "execution_count": 48,
   "id": "2b877e12-191c-40e6-9de5-8182d62116c6",
   "metadata": {},
   "outputs": [],
   "source": [
    "def plot_gaussian(mu, sigma):\n",
    "    x = jnp.linspace(-0,1)\n",
    "    y = jnp.linspace(-0,1)\n",
    "    X,Y = jnp.meshgrid(x,y)\n",
    "    XX = jnp.array([X.ravel(), Y.ravel()]).T\n",
    "    print(XX[-10:])\n",
    "    Z = jax.vmap(jax.scipy.stats.multivariate_normal.logpdf, in_axes=(0,None,None))(XX, mu, sigma)\n",
    "    Z = Z.reshape(X.shape)\n",
    "    plt.contour(X,Y,Z,)"
   ]
  },
  {
   "cell_type": "code",
   "execution_count": 50,
   "id": "1beb6c38-6da6-47b0-b10e-bbaf57d5210a",
   "metadata": {},
   "outputs": [
    {
     "name": "stdout",
     "output_type": "stream",
     "text": [
      "[[0.8163265  1.        ]\n",
      " [0.83673465 1.        ]\n",
      " [0.85714287 1.        ]\n",
      " [0.877551   1.        ]\n",
      " [0.8979592  1.        ]\n",
      " [0.9183673  1.        ]\n",
      " [0.9387755  1.        ]\n",
      " [0.95918363 1.        ]\n",
      " [0.97959185 1.        ]\n",
      " [1.         1.        ]]\n"
     ]
    },
    {
     "data": {
      "text/plain": [
       "DeviceArray([[0.08327462, 0.00846354],\n",
       "             [0.00846354, 0.00087029]], dtype=float32)"
      ]
     },
     "execution_count": 50,
     "metadata": {},
     "output_type": "execute_result"
    },
    {
     "data": {
      "image/png": "[encoded data removed]",
      "text/plain": [
       "<Figure size 640x480 with 1 Axes>"
      ]
     },
     "metadata": {},
     "output_type": "display_data"
    }
   ],
   "source": [
    "mu = params['params']['mu']\n",
    "# mu = jnp.array([0.5,0.5])\n",
    "cov = params['params']['cov']\n",
    "cov_matrix = get_cov_matrices_from_vectors(cov, 2, 1e-5)\n",
    "# cov_matrix = jnp.array([[0.7,0.1],[0.1,0.1]]) + 1e-5 * jnp.eye(2)\n",
    "# plot_1d_gaussian(mu, cov)\n",
    "# mu = params['params']['parameters'][:2]\n",
    "# # mu = jnp.array([0.5,0.5])\n",
    "# cov = params['params']['parameters'][2:]\n",
    "# cov_matrix = get_cov_matrices_from_vectors(cov[None,None], 2, 1e-5)[0,0]\n",
    "# # cov_matrix = jnp.array([[0.7,0.1],[0.1,0.1]]) + 1e-5 * jnp.eye(2)\n",
    "plot_gaussian(mu, cov_matrix)\n",
    "plt.plot(x,y)\n",
    "# plt.scatter(samples[:,0], samples[:,1])\n",
    "cov_matrix\n",
    "# points = jax.random.multivariate_normal(key, mu, cov_matrix, (1000,))\n",
    "# # plt.scatter(points[:,0], points[:,1])\n",
    "# cov_matrix\n",
    "# print(jax.vmap(jax.scipy.stats.multivariate_normal.logpdf, in_axes=(0,None,None))(samples, mu, cov).sum())\n",
    "# print(jax.vmap(jax.scipy.stats.multivariate_normal.logpdf, in_axes=(0,None,None))(samples, jnp.array([0.5]), jnp.array([[10.0]])).sum())"
   ]
  }
 ],
 "metadata": {
  "kernelspec": {
   "display_name": "Python 3 (ipykernel)",
   "language": "python",
   "name": "python3"
  },
  "language_info": {
   "codemirror_mode": {
    "name": "ipython",
    "version": 3
   },
   "file_extension": ".py",
   "mimetype": "text/x-python",
   "name": "python",
   "nbconvert_exporter": "python",
   "pygments_lexer": "ipython3",
   "version": "3.10.4"
  }
 },
 "nbformat": 4,
 "nbformat_minor": 5
}
