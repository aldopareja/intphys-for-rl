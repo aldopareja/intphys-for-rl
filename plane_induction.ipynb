{
 "cells": [
  {
   "cell_type": "code",
   "execution_count": 10,
   "id": "7f2307e3-f7b6-4d84-9560-36fbd0ad8f9f",
   "metadata": {},
   "outputs": [],
   "source": [
    "from jax import random\n",
    "from jax import numpy as jnp\n",
    "from jax import vmap\n",
    "import numpy as onp\n",
    "from jax.random import PRNGKey, split, uniform\n",
    "import jax\n",
    "from flax import struct\n",
    "from typing import Union\n",
    "from matplotlib import pyplot as plt\n",
    "from functools import reduce"
   ]
  },
  {
   "cell_type": "code",
   "execution_count": 11,
   "id": "2ada01e8-c8d4-4696-9f18-6661bdb25ff4",
   "metadata": {},
   "outputs": [
    {
     "data": {
      "text/plain": [
       "[(0, (1, 2)), (0, (2, 1)), (3, (1, 2)), (3, (2, 1))]"
      ]
     },
     "execution_count": 11,
     "metadata": {},
     "output_type": "execute_result"
    }
   ],
   "source": [
    "from itertools import permutations, product\n",
    "list(product([0,3],permutations([1,2],2)))"
   ]
  },
  {
   "cell_type": "code",
   "execution_count": 12,
   "id": "49ae9f90-e9a4-41d9-96b2-f425f183d63b",
   "metadata": {},
   "outputs": [
    {
     "data": {
      "text/plain": [
       "DeviceArray([1.4142137, 2.0000002, 0.       ], dtype=float32)"
      ]
     },
     "execution_count": 12,
     "metadata": {},
     "output_type": "execute_result"
    }
   ],
   "source": [
    "Quaternion = jnp.ndarray\n",
    "Vector3 = jnp.ndarray\n",
    "BoxFace = jnp.ndarray\n",
    "Point = jnp.ndarray\n",
    "\n",
    "def rot_axis_to_quaternion(axis: Vector3, angle: jnp.ndarray) -> Quaternion:\n",
    "    img = axis * jnp.sin(angle/2)\n",
    "    real = jax.lax.cos(angle/2)[None]\n",
    "    return jax.lax.concatenate([real, img], dimension=0)\n",
    "\n",
    "def rotate(vec: Vector3, quat: Quaternion):\n",
    "  \"\"\"Rotates a vector vec by a unit quaternion quat.\n",
    "\n",
    "  Args:\n",
    "    vec: (3,) a vector\n",
    "    quat: (4,) a quaternion\n",
    "\n",
    "  Returns:\n",
    "    ndarray(3) containing vec rotated by quat.\n",
    "  \"\"\"\n",
    "  if len(vec.shape) != 1:\n",
    "    raise AssertionError('vec must have no batch dimensions.')\n",
    "  s, u = quat[0], quat[1:]\n",
    "  r = 2 * (jnp.dot(u, vec) * u) + (s * s - jnp.dot(u, u)) * vec\n",
    "  r = r + 2 * s * jnp.cross(u, vec)\n",
    "  return r\n",
    "\n",
    "q = rot_axis_to_quaternion(jnp.array([0.,1.,0.]), jnp.array(jnp.pi/4))\n",
    "vec = jnp.array([1.0,2.0,1.0])\n",
    "rotate(vec, q)"
   ]
  },
  {
   "cell_type": "code",
   "execution_count": 13,
   "id": "3b459ce2-145c-4e73-a986-6d0afb5afa0c",
   "metadata": {},
   "outputs": [],
   "source": [
    "Quaternion = jnp.ndarray\n",
    "\n",
    "def sample_quaternion(rng: PRNGKey):\n",
    "    # sample imaginary part of quaternion (axis of rotation)\n",
    "    key, *subkeys = split(rng, 4)\n",
    "    axis = (\n",
    "        uniform(subkeys[0], minval=-1.0, maxval=1.0, shape=(3,)) + 1e-6\n",
    "    )\n",
    "    axis = axis / jnp.linalg.norm(axis)\n",
    "\n",
    "    # sample angle (how much to rotate)\n",
    "    angle = (\n",
    "        uniform(subkeys[1], minval=-2 * jnp.pi, maxval=2 * jnp.pi)\n",
    "    )\n",
    "    \n",
    "    return rot_axis_to_quaternion(axis,angle)"
   ]
  },
  {
   "cell_type": "code",
   "execution_count": 14,
   "id": "055f7a86-d0f7-453d-b888-630c76a6585d",
   "metadata": {},
   "outputs": [
    {
     "data": {
      "text/plain": [
       "DeviceArray([4.6218246e-01, 1.6194582e-03, 5.3619909e-01, 7.1841822e+00],            dtype=float32)"
      ]
     },
     "execution_count": 14,
     "metadata": {},
     "output_type": "execute_result"
    }
   ],
   "source": [
    "Plane = jnp.ndarray\n",
    "Box = jnp.ndarray\n",
    "\n",
    "@jax.jit\n",
    "def uniform_sample_plane(key)->Plane:\n",
    "    '''samples a,b,c,d such that a+b+c = 1. A plane is characterized by equation ax + by + cz + d = 0\n",
    "    '''\n",
    "    eps = 1e-6\n",
    "    keys = split(key, 3)\n",
    "    a,b = jax.lax.sort(uniform(keys[0], shape=(2,)) * (1-eps) + eps) #avoids degenerate planes\n",
    "    c = (1-b) + eps\n",
    "    b = (b-a)\n",
    "    d = uniform(keys[1])* 10 + eps\n",
    "    return jnp.stack([a,b,c,d])\n",
    "\n",
    "\n",
    "    \n",
    "    \n",
    "uniform_sample_plane(PRNGKey(0))"
   ]
  },
  {
   "cell_type": "code",
   "execution_count": 15,
   "id": "e50df410-36b3-46fa-a604-4af18c8a4e92",
   "metadata": {},
   "outputs": [
    {
     "data": {
      "text/plain": [
       "DeviceArray(1, dtype=int32)"
      ]
     },
     "execution_count": 15,
     "metadata": {},
     "output_type": "execute_result"
    }
   ],
   "source": [
    "v = jnp.arange(6).reshape(3,2)\n",
    "v[0,1]"
   ]
  },
  {
   "cell_type": "code",
   "execution_count": 16,
   "id": "b6f62c45-1f92-49de-8863-b5b41308aed8",
   "metadata": {},
   "outputs": [
    {
     "data": {
      "text/plain": [
       "DeviceArray([ 0.00127279,  0.03190355, -0.04826628], dtype=float32)"
      ]
     },
     "execution_count": 16,
     "metadata": {},
     "output_type": "execute_result"
    }
   ],
   "source": [
    "((uniform(PRNGKey(0), shape=(1000,3))-0.5) * 2).mean(axis=0)"
   ]
  },
  {
   "cell_type": "code",
   "execution_count": 17,
   "id": "acc1a959-bc99-4feb-8e1e-3559a26a696e",
   "metadata": {},
   "outputs": [
    {
     "ename": "NameError",
     "evalue": "name 'i' is not defined",
     "output_type": "error",
     "traceback": [
      "\u001b[0;31m---------------------------------------------------------------------------\u001b[0m",
      "\u001b[0;31mNameError\u001b[0m                                 Traceback (most recent call last)",
      "Cell \u001b[0;32mIn [17], line 72\u001b[0m\n\u001b[1;32m     68\u001b[0m     faces_corners \u001b[38;5;241m=\u001b[39m jnp\u001b[38;5;241m.\u001b[39mconcatenate([corners[:,\u001b[38;5;241m0\u001b[39m],corners[:,\u001b[38;5;241m1\u001b[39m]])\u001b[38;5;241m+\u001b[39mt\n\u001b[1;32m     70\u001b[0m     \u001b[38;5;28;01mreturn\u001b[39;00m \u001b[38;5;28mdict\u001b[39m(faces_planes\u001b[38;5;241m=\u001b[39m box_planes, faces_corners\u001b[38;5;241m=\u001b[39mfaces_corners)\n\u001b[0;32m---> 72\u001b[0m box \u001b[38;5;241m=\u001b[39m sample_box(PRNGKey(\u001b[43mi\u001b[49m))\n\u001b[1;32m     73\u001b[0m \u001b[38;5;28;01mfor\u001b[39;00m i \u001b[38;5;129;01min\u001b[39;00m \u001b[38;5;28mrange\u001b[39m(\u001b[38;5;241m10\u001b[39m):\n\u001b[1;32m     74\u001b[0m     box \u001b[38;5;241m=\u001b[39m sample_box(PRNGKey(i))\n",
      "\u001b[0;31mNameError\u001b[0m: name 'i' is not defined"
     ]
    }
   ],
   "source": [
    "def make_corners_from_half_vectors(v1, v2, v3):\n",
    "    \"\"\"make corners keeping v1 static and adding +-v2 and +-v3 to make a box. The last corner isn't necessary.\n",
    "    \"\"\"\n",
    "    a = v2+v3\n",
    "    b = v2-v3\n",
    "    c = -v2-v3\n",
    "    # TODO: how am I supposed to check if this works then?\n",
    "    # assert jnp.all(jnp.abs(jnp.dot(a-b,c-b)) < 1e-4)\n",
    "    return v1[None] + jnp.stack([a,b,c],axis=0)\n",
    "\n",
    "def translate_plane(p: Plane, t:Vector3):\n",
    "    assert p.shape==(4,)\n",
    "    assert t.shape == (3,)\n",
    "    d = p[-1] - (p[:3]*t).sum()[None]\n",
    "    return jnp.concatenate([p[:3], d], axis=0)\n",
    "    \n",
    "                         \n",
    "def sample_box(key):\n",
    "    '''\n",
    "    samples a box, which is a set of box_faces, each box face is a plane and a set of three points in such plane that delimit it.\n",
    "    returns:\n",
    "        Box:\n",
    "            planes: (6,4) array with the 6 planes each belonging to a box_face, planes are parameterized such that ax + by + cz + d = 0\n",
    "            corners: (6,3,3) array with 6 sets of 3 points (each of size 3) where each point is a corner delimiting the box_face. The second point is the corner.\n",
    "    NOTE: the normal of the plane a,b,c is parameterized to look away from the origin. This can be used to check if a ray is hitting it from behind or\n",
    "    from the front. I would assume front is \n",
    "    '''\n",
    "    eps = 1e-6\n",
    "    ks = split(key,3)\n",
    "    \n",
    "    #half sizes\n",
    "    hx,hy,hz = uniform(ks[0], shape=(3,)) + eps\n",
    "    # hx,hy,hz = 1,1,1\n",
    "    \n",
    "    #traslation\n",
    "    t = (uniform(ks[2], shape=(3,)) - 0.5) * 3 + eps #TODO: I need to calibrate this so that I always sample on the field of vision.\n",
    "    # t = t - jnp.array([0,0,4])\n",
    "    # t = jnp.array([0,0,0])\n",
    "    \n",
    "    #rotation\n",
    "    q = sample_quaternion(ks[1])\n",
    "    # q = rot_axis_to_quaternion(jnp.array([0,1,0]),angle=jnp.pi/4)\n",
    "    \n",
    "    planes_d = jnp.stack([hx,hy,hz]).reshape(-1,1)\n",
    "    hs = jnp.eye(3) * planes_d\n",
    "    \n",
    "    v_rotate = vmap(rotate, in_axes=(0,None))\n",
    "    \n",
    "    hs = v_rotate(hs,q)\n",
    "    \n",
    "    corners = []\n",
    "    for i in range(3):\n",
    "        k,j = {0,1,2}.difference({i})\n",
    "        pos = make_corners_from_half_vectors(-hs[i], hs[k], hs[j])\n",
    "        neg = make_corners_from_half_vectors(hs[i], hs[k], hs[j])\n",
    "        corners.append([pos,neg])\n",
    "\n",
    "    corners = jnp.array(corners)\n",
    "    \n",
    "    planes_d = jnp.concatenate([planes_d,planes_d],axis=0)\n",
    "    \n",
    "    normals = jnp.concatenate([jnp.eye(3), -jnp.eye(3)], axis=0)\n",
    "    normals = v_rotate(normals, q)\n",
    "    \n",
    "    box_planes = jnp.concatenate([normals, planes_d], axis=1)\n",
    "    box_planes = vmap(translate_plane, in_axes=(0,None))(box_planes, t)\n",
    "    \n",
    "    faces_corners = jnp.concatenate([corners[:,0],corners[:,1]])+t\n",
    "\n",
    "    return dict(faces_planes= box_planes, faces_corners=faces_corners)\n",
    "\n",
    "box = sample_box(PRNGKey(i))\n",
    "for i in range(10):\n",
    "    box = sample_box(PRNGKey(i))\n",
    "    x,y,z = box['faces_corners'][0,0]\n",
    "    d = get_depth_pixel_from_plane(x,y, box['faces_planes'][0])\n",
    "    assert jnp.allclose(d, z, atol=2e-2), (d,z,i, box)\n",
    "box['faces_corners'][0,0], box['faces_planes'][0],get_depth_pixel_from_plane(1.4142,1.0, box['faces_planes'][0])\n",
    "box"
   ]
  },
  {
   "cell_type": "code",
   "execution_count": 18,
   "id": "6471516c-d5ab-481e-a2f9-b34585227485",
   "metadata": {},
   "outputs": [
    {
     "data": {
      "text/plain": [
       "(DeviceArray(False, dtype=bool),\n",
       " DeviceArray([[ 0.16053993, -0.40080154,  1.7752507 ],\n",
       "              [ 0.10749245, -0.34280074,  1.7582191 ],\n",
       "              [ 0.51577246, -0.51610607, -0.10361707]], dtype=float32))"
      ]
     },
     "execution_count": 18,
     "metadata": {},
     "output_type": "execute_result"
    }
   ],
   "source": [
    "def point_in_box_face(d: Point, b:BoxFace):\n",
    "    \"\"\"\n",
    "    Args:\n",
    "        - p: (d,) shaped array including coordinates of point\n",
    "        - b: (3,d) shaped array including 3 points determining the box face, the second (b[1]) must be the corner uniting the other points.\n",
    "    returns:\n",
    "        - true if the point is inside the boxface, i.e the projection of the point to each edge is less than the size of the edge.\n",
    "        \n",
    "    NOTE: this doesn't check it but d should be guaranteed to be on the plane of BoxFace or this would just not work.\n",
    "    \"\"\"\n",
    "    assert d.shape == (3,) and b.shape==(3,3)\n",
    "    e1 = b[0] - b[1]\n",
    "    e2 = b[2] - b[1]\n",
    "    p = d - b[1]\n",
    "\n",
    "    \n",
    "    pr1 = jnp.dot(p,e1)/(jnp.linalg.norm(e1))**2\n",
    "    pr2 = jnp.dot(p,e2)/(jnp.linalg.norm(e2))**2\n",
    "    # print(p,e1,e2,pr1,pr2)\n",
    "    def proj_within(pr):\n",
    "        return (pr >= 0) & (pr <= 1)\n",
    "    \n",
    "    return proj_within(pr1) & proj_within(pr2)\n",
    "\n",
    "point_in_box_face(jnp.array([1.,0,-1]), box['faces_corners'][0]), box['faces_corners'][0]"
   ]
  },
  {
   "cell_type": "code",
   "execution_count": 19,
   "id": "5db8bfcc-cc7c-41e7-a5fc-4af7028791ce",
   "metadata": {},
   "outputs": [],
   "source": [
    "def get_depth_pixel_from_plane(x,y,p:Plane):\n",
    "    \"\"\"does orthographic projection of a pixel and returns the z value, we assume right handed coordinates where z is coming into the camera\n",
    "    the camera is assumed to be at the origin. This function doesn't work with degenerate planes. If the plane is not in \"front\" of the camera (i.e. the z value\n",
    "    is less than 0) then it returs 0\n",
    "    \"\"\"\n",
    "    #TODO should I ignore points that are looking \"away\"? i.e. taking into account the orientation of the normal?.\n",
    "    v = (-p[3] - p[0] * x - p[1]*y)/p[2]\n",
    "    # v = jax.lax.cond(v>0, lambda: 0.0, lambda: v)\n",
    "    return v\n",
    "    # return jnp.array([x,y,(-p.d - p.a * x - p.b*y)/p.c])\n",
    "\n",
    "def get_depth_pixel_from_box_face(x,y, face_plane, face_corners):\n",
    "    z = get_depth_pixel_from_plane(x,y, face_plane)\n",
    "    plane_inter = jnp.array([x,y,z])\n",
    "    return jax.lax.cond(point_in_box_face(plane_inter, face_corners), lambda: z, lambda: -2.0)\n",
    "\n",
    "def get_depth_pixel_from_box(x,y, box):\n",
    "    \"\"\"takes a box dict with 'faces_planes' and 'faces_corners' and returns the depth of the closest intersection with all of the box's planes\n",
    "    \"\"\"\n",
    "    all_depths = vmap(get_depth_pixel_from_box_face, in_axes=(None,None,0,0))(x,y, box['faces_planes'], box['faces_corners'])\n",
    "    return all_depths.max()\n",
    "    \n",
    "render_face = vmap(vmap(get_depth_pixel_from_box_face,in_axes=(None,0,None,None)),in_axes=(0,None,None,None))\n",
    "render_box = vmap(vmap(get_depth_pixel_from_box, in_axes=(None,0,None)), in_axes=(0,None,None))\n",
    "\n",
    "\"\"\"vectorizes over vectors xs and ys to compute the depth in the product of both vectors.\n",
    "\"\"\"\n",
    "render_depth_map = jax.vmap(jax.vmap(get_depth_pixel_from_plane, in_axes=(None,0,None)), in_axes=(0,None,None))"
   ]
  },
  {
   "cell_type": "code",
   "execution_count": 20,
   "id": "ffbbb835-1556-41d2-8ff3-5509fc7aa7a7",
   "metadata": {},
   "outputs": [],
   "source": [
    "def score_point_box_face(point, face_plane, face_corners):\n",
    "    x,y,z = point\n",
    "    z_int = get_depth_pixel_from_plane(x,y, face_plane)\n",
    "    plane_inter = jnp.array([x,y,z_int])\n",
    "    z_int = jax.lax.cond(point_in_box_face(plane_inter, face_corners), lambda: z_int, lambda: -10.0)\n",
    "    lpdf = jax.scipy.stats.norm.logpdf(z, loc=z_int)\n",
    "    return lpdf\n",
    "    \n",
    "def score_point_from_box(point, box):\n",
    "    all_scores = vmap(score_point_box_face, in_axes=(None,0,0))(point,box['faces_planes'], box['faces_corners'])\n",
    "    return jax.scipy.special.logsumexp(all_scores)\n",
    "\n",
    "def score_point_cloud_from_box(pc, box):\n",
    "    all_scores = vmap(score_point_from_box, in_axes=(0,None))(pc, box)\n",
    "    return all_scores.sum()\n",
    "\n",
    "score_point_cloud_from_many_boxes = jax.jit(vmap(score_point_cloud_from_box, in_axes=(None, 0)))"
   ]
  },
  {
   "cell_type": "code",
   "execution_count": 23,
   "id": "616583be-284e-4191-bfc6-a8333ef6eedb",
   "metadata": {},
   "outputs": [],
   "source": [
    "def draw_box(box, res=300):\n",
    "    xs= (jnp.arange(res)/res - 0.5)*6\n",
    "    ys= (jnp.arange(res)/res - 0.5)*6\n",
    "    depth_map = render_box(xs,ys,box)\n",
    "    fig1, ax2 = plt.subplots(constrained_layout=True)\n",
    "\n",
    "    cs = ax2.contourf(xs, ys, depth_map, 1000, cmap='hot')\n",
    "    cbar = fig1.colorbar(cs)\n",
    "    return ax2, fig1\n",
    "\n",
    "def overimpose_point_cloud(fig, ax, pc):\n",
    "    cs = ax.scatter(pc[:,1], pc[:,0], c=pc[:,2], s=2, cmap='hot')\n",
    "    # fig.colorbar(cs)"
   ]
  },
  {
   "cell_type": "code",
   "execution_count": null,
   "id": "582ef4a4-9f00-457f-93bd-002b0b9377fc",
   "metadata": {},
   "outputs": [],
   "source": [
    "def concat_boxes(b1,b2):\n",
    "    return dict(faces_corners=onp.concatenate([b1['faces_corners'],b2['faces_corners']]),\n",
    "                faces_planes=onp.concatenate([b1['faces_planes'],b2['faces_planes']]))"
   ]
  },
  {
   "cell_type": "code",
   "execution_count": 582,
   "id": "3f83db99-0841-4908-959e-4c08c6734a17",
   "metadata": {},
   "outputs": [
    {
     "name": "stdout",
     "output_type": "stream",
     "text": [
      "-4914.544 0 -25.731884 1991791 1991791 1991791\n",
      "(1205, 6, 3, 3)\n"
     ]
    },
    {
     "data": {
      "text/plain": [
       "array([ 0.03742581,  0.00055185, -0.03717769])"
      ]
     },
     "execution_count": 582,
     "metadata": {},
     "output_type": "execute_result"
    },
    {
     "data": {
      "image/png": "[encoded data removed]",
      "text/plain": [
       "<Figure size 640x480 with 2 Axes>"
      ]
     },
     "metadata": {},
     "output_type": "display_data"
    }
   ],
   "source": [
    "s = random.multivariate_normal(PRNGKey(1), jnp.zeros(3)+jnp.array([.5,.5,-.0]), cov=jnp.eye(3)/20, shape=(100,))\n",
    "\n",
    "\n",
    "boxes = jax.jit(vmap(sample_box))(split(PRNGKey(i),500000))\n",
    "all_scores = score_point_cloud_from_many_boxes(s, boxes)\n",
    "# boxes = jax.tree_map(onp.array,boxes)\n",
    "# all_scores = onp.array(all_scores)\n",
    "# c_scores.append(all_scores)\n",
    "# c_boxes.append(boxes)\n",
    "\n",
    "# all_scores = onp.concatenate(c_scores)\n",
    "# boxes = reduce(concat_boxes, c_boxes)\n",
    "_, min_i, _ , max_i = all_scores.min(), all_scores.argmin(), all_scores.max(), all_scores.argmax()\n",
    "print(all_scores.min(), all_scores.argmin(), all_scores.max(), all_scores.argmax(), max_i, int(max_i))\n",
    "good_box = jax.tree_map(lambda x: x[all_scores>-40], boxes)\n",
    "print(good_box['faces_corners'].shape)\n",
    "ax,fig = draw_box(jax.tree_map(lambda x: x[max_i], boxes))\n",
    "overimpose_point_cloud(fig, ax, s)\n",
    "boxes['faces_corners'].sum(axis=0).sum(axis=0).sum(0)/(len(boxes['faces_corners'])*6*3)"
   ]
  },
  {
   "cell_type": "code",
   "execution_count": null,
   "id": "54fce634-65b5-44a4-9e92-712ea6a24d15",
   "metadata": {},
   "outputs": [],
   "source": []
  },
  {
   "cell_type": "code",
   "execution_count": 321,
   "id": "32e7553e-2305-4073-9e92-6cca5756710f",
   "metadata": {},
   "outputs": [
    {
     "name": "stdout",
     "output_type": "stream",
     "text": [
      "CPU times: user 2.43 s, sys: 84.6 ms, total: 2.51 s\n",
      "Wall time: 664 ms\n"
     ]
    }
   ],
   "source": [
    "%%time\n",
    "boxes = jax.jit(vmap(sample_box))(split(PRNGKey(22),30000))\n",
    "\n",
    "depth_maps = jax.jit(vmap(render_box, in_axes=(None,None,0)))(xs,ys,boxes)"
   ]
  },
  {
   "cell_type": "code",
   "execution_count": null,
   "id": "b3c1db88-ad1f-481c-8860-aa0f7713c1c9",
   "metadata": {},
   "outputs": [],
   "source": []
  },
  {
   "cell_type": "code",
   "execution_count": 42,
   "id": "45c691f5-fdd8-42ab-8056-82408e60e3c0",
   "metadata": {},
   "outputs": [
    {
     "name": "stdout",
     "output_type": "stream",
     "text": [
      "The autoreload extension is already loaded. To reload it, use:\n",
      "  %reload_ext autoreload\n"
     ]
    },
    {
     "data": {
      "text/plain": [
       "((100, 3),\n",
       " (10,),\n",
       " {'faces_planes': DeviceArray([[-0.6285432 , -0.63900846, -0.44339776,  0.7642075 ],\n",
       "               [-0.4610116 ,  0.76523435, -0.44931567,  0.56888735],\n",
       "               [ 0.6264198 , -0.07800281, -0.7755732 ,  1.447316  ],\n",
       "               [ 0.6285432 ,  0.63900846,  0.44339776, -0.13787696],\n",
       "               [ 0.4610116 , -0.76523435,  0.44931567,  1.2586329 ],\n",
       "               [-0.6264198 ,  0.07800281,  0.7755732 , -1.3047308 ]],            dtype=float32),\n",
       "  'faces_corners': DeviceArray([[[-0.91721606,  1.5532568 ,  0.7852386 ],\n",
       "                [-1.0065343 ,  1.564379  ,  0.89582396],\n",
       "                [-0.16402644,  0.16589776,  1.7169574 ]],\n",
       "  \n",
       "               [[-0.4683839 , -0.24545479,  1.3286586 ],\n",
       "                [-0.5577022 , -0.23433274,  1.4392439 ],\n",
       "                [-0.16402644,  0.16589773,  1.7169574 ]],\n",
       "  \n",
       "               [[-1.4002101 ,  1.1641483 ,  0.6181104 ],\n",
       "                [-0.5577022 , -0.23433268,  1.4392439 ],\n",
       "                [-0.16402644,  0.16589773,  1.7169574 ]],\n",
       "  \n",
       "               [[-1.3108919 ,  1.1530263 ,  0.5075251 ],\n",
       "                [-1.4002101 ,  1.1641483 ,  0.6181104 ],\n",
       "                [-0.5577022 , -0.23433274,  1.4392439 ]],\n",
       "  \n",
       "               [[-1.3108919 ,  1.1530263 ,  0.5075251 ],\n",
       "                [-1.4002101 ,  1.1641483 ,  0.6181104 ],\n",
       "                [-1.0065343 ,  1.5643789 ,  0.89582396]],\n",
       "  \n",
       "               [[-1.3108919 ,  1.1530263 ,  0.5075251 ],\n",
       "                [-0.4683839 , -0.24545479,  1.3286586 ],\n",
       "                [-0.07470816,  0.15477568,  1.6063721 ]]], dtype=float32)})"
      ]
     },
     "execution_count": 42,
     "metadata": {},
     "output_type": "execute_result"
    },
    {
     "data": {
      "image/png": "[encoded data removed]",
      "text/plain": [
       "<Figure size 640x480 with 2 Axes>"
      ]
     },
     "metadata": {},
     "output_type": "display_data"
    }
   ],
   "source": [
    "%load_ext autoreload\n",
    "%autoreload 2\n",
    "from box_model import generative_model, draw_box, overimpose_point_cloud\n",
    "from jax.random import PRNGKey, split, choice\n",
    "from jax import vmap\n",
    "from jax import numpy as jnp\n",
    "\n",
    "# pc, latents, box = vmap(generative_model, in_axes=(0,None,None,None))(PRNGKey(0), obs_p=0.7, obs_noise_std=0.8, num_points=100)\n",
    "# pc, latents, box = vmap(generative_model, in_axes=(0,None,None,None))(split(PRNGKey(0)),0.7, 0.8, 100)\n",
    "\n",
    "# for i in range(2):\n",
    "#     generative_model(PRNGKey(i),obs_p=0.7, obs_noise_std=0.8, num_points=100)\n",
    "pc, latents, box = generative_model(PRNGKey(0), obs_noise_std=0.8, num_points=100)\n",
    "ax, fig = draw_box(box)\n",
    "overimpose_point_cloud(fig, ax, pc)\n",
    "\n",
    "# choice(PRNGKey(0),jnp.arange(5), shape=(10,))\n",
    "pc.shape, latents.shape, box"
   ]
  }
 ],
 "metadata": {
  "kernelspec": {
   "display_name": "Python 3 (ipykernel)",
   "language": "python",
   "name": "python3"
  },
  "language_info": {
   "codemirror_mode": {
    "name": "ipython",
    "version": 3
   },
   "file_extension": ".py",
   "mimetype": "text/x-python",
   "name": "python",
   "nbconvert_exporter": "python",
   "pygments_lexer": "ipython3",
   "version": "3.10.4"
  }
 },
 "nbformat": 4,
 "nbformat_minor": 5
}
