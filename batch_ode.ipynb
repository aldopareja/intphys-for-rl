{
 "cells": [
  {
   "cell_type": "code",
   "execution_count": 50,
   "id": "81031075-ff2c-4071-ad9c-a8041d2a7bcf",
   "metadata": {},
   "outputs": [],
   "source": [
    "import torch\n",
    "from opt_einsum import contract"
   ]
  },
  {
   "cell_type": "code",
   "execution_count": 59,
   "id": "5064a9d0-87eb-460d-aedf-ab96b4a78764",
   "metadata": {},
   "outputs": [
    {
     "name": "stdout",
     "output_type": "stream",
     "text": [
      "49.4 µs ± 2.16 µs per loop (mean ± std. dev. of 7 runs, 10,000 loops each)\n"
     ]
    }
   ],
   "source": [
    "%%timeit\n",
    "matrices = torch.randn(1000,3,3,dtype=torch.float32,device='cuda')\n",
    "vectors = torch.randn(1000,3,dtype=torch.float32,device='cuda')\n",
    "torch.einsum('bkj,bj->bk',matrices, vectors)"
   ]
  },
  {
   "cell_type": "code",
   "execution_count": 60,
   "id": "7e1922f6-82fd-4de1-a124-3c63f2893dfc",
   "metadata": {},
   "outputs": [
    {
     "name": "stdout",
     "output_type": "stream",
     "text": [
      "105 µs ± 548 ns per loop (mean ± std. dev. of 7 runs, 10,000 loops each)\n"
     ]
    }
   ],
   "source": [
    "%%timeit\n",
    "matrices = torch.randn(1000,3,3,dtype=torch.float32,device='cuda')\n",
    "vectors = torch.randn(1000,3,dtype=torch.float32,device='cuda')\n",
    "contract('bkj,bj->bk',matrices, vectors)"
   ]
  }
 ],
 "metadata": {
  "kernelspec": {
   "display_name": "Python 3 (ipykernel)",
   "language": "python",
   "name": "python3"
  },
  "language_info": {
   "codemirror_mode": {
    "name": "ipython",
    "version": 3
   },
   "file_extension": ".py",
   "mimetype": "text/x-python",
   "name": "python",
   "nbconvert_exporter": "python",
   "pygments_lexer": "ipython3",
   "version": "3.10.4"
  }
 },
 "nbformat": 4,
 "nbformat_minor": 5
}
