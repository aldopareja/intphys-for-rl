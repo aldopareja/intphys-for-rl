{
 "cells": [
  {
   "cell_type": "code",
   "execution_count": 77,
   "id": "7f2307e3-f7b6-4d84-9560-36fbd0ad8f9f",
   "metadata": {},
   "outputs": [],
   "source": [
    "from jax import random\n",
    "from jax import numpy as jnp\n",
    "from jax import vmap\n",
    "import numpy as onp\n",
    "from jax.random import PRNGKey, split, uniform\n",
    "import jax\n",
    "from flax import struct\n",
    "from typing import Union\n",
    "from matplotlib import pyplot as plt"
   ]
  },
  {
   "cell_type": "code",
   "execution_count": 83,
   "id": "2ada01e8-c8d4-4696-9f18-6661bdb25ff4",
   "metadata": {},
   "outputs": [
    {
     "data": {
      "text/plain": [
       "[(0, (1, 2)), (0, (2, 1)), (3, (1, 2)), (3, (2, 1))]"
      ]
     },
     "execution_count": 83,
     "metadata": {},
     "output_type": "execute_result"
    }
   ],
   "source": [
    "from itertools import permutations, product\n",
    "list(product([0,3],permutations([1,2],2)))"
   ]
  },
  {
   "cell_type": "code",
   "execution_count": 223,
   "id": "49ae9f90-e9a4-41d9-96b2-f425f183d63b",
   "metadata": {},
   "outputs": [
    {
     "data": {
      "text/plain": [
       "DeviceArray([1.4142137, 2.0000002, 0.       ], dtype=float32)"
      ]
     },
     "execution_count": 223,
     "metadata": {},
     "output_type": "execute_result"
    }
   ],
   "source": [
    "Quaternion = jnp.ndarray\n",
    "Vector3 = jnp.ndarray\n",
    "BoxFace = jnp.ndarray\n",
    "Point = jnp.ndarray\n",
    "\n",
    "def rot_axis_to_quaternion(axis: Vector3, angle: jnp.ndarray) -> Quaternion:\n",
    "    img = axis * jnp.sin(angle/2)\n",
    "    real = jax.lax.cos(angle/2)[None]\n",
    "    return jax.lax.concatenate([real, img], dimension=0)\n",
    "\n",
    "def rotate(vec: Vector3, quat: Quaternion):\n",
    "  \"\"\"Rotates a vector vec by a unit quaternion quat.\n",
    "\n",
    "  Args:\n",
    "    vec: (3,) a vector\n",
    "    quat: (4,) a quaternion\n",
    "\n",
    "  Returns:\n",
    "    ndarray(3) containing vec rotated by quat.\n",
    "  \"\"\"\n",
    "  if len(vec.shape) != 1:\n",
    "    raise AssertionError('vec must have no batch dimensions.')\n",
    "  s, u = quat[0], quat[1:]\n",
    "  r = 2 * (jnp.dot(u, vec) * u) + (s * s - jnp.dot(u, u)) * vec\n",
    "  r = r + 2 * s * jnp.cross(u, vec)\n",
    "  return r\n",
    "\n",
    "q = rot_axis_to_quaternion(jnp.array([0.,1.,0.]), jnp.array(jnp.pi/4))\n",
    "vec = jnp.array([1.0,2.0,1.0])\n",
    "rotate(vec, q)"
   ]
  },
  {
   "cell_type": "code",
   "execution_count": 120,
   "id": "3b459ce2-145c-4e73-a986-6d0afb5afa0c",
   "metadata": {},
   "outputs": [],
   "source": [
    "Quaternion = jnp.ndarray\n",
    "\n",
    "def sample_quaternion(rng: PRNGKey):\n",
    "    # sample imaginary part of quaternion (axis of rotation)\n",
    "    key, *subkeys = split(rng, 4)\n",
    "    axis = (\n",
    "        uniform(subkeys[0], minval=-1.0, maxval=1.0, shape=(3,)) + 1e-6\n",
    "    )\n",
    "    axis = axis / jnp.linalg.norm(axis)\n",
    "\n",
    "    # sample angle (how much to rotate)\n",
    "    angle = (\n",
    "        uniform(subkeys[1], minval=-2 * jnp.pi, maxval=2 * jnp.pi)\n",
    "    )\n",
    "    \n",
    "    return rot_axis_to_quaternion(axis,angle)"
   ]
  },
  {
   "cell_type": "code",
   "execution_count": 13,
   "id": "055f7a86-d0f7-453d-b888-630c76a6585d",
   "metadata": {},
   "outputs": [
    {
     "data": {
      "text/plain": [
       "DeviceArray([4.6218246e-01, 1.6194582e-03, 5.3619909e-01, 7.1841822e+00],            dtype=float32)"
      ]
     },
     "execution_count": 13,
     "metadata": {},
     "output_type": "execute_result"
    }
   ],
   "source": [
    "Plane = jnp.ndarray\n",
    "Box = jnp.ndarray\n",
    "\n",
    "@jax.jit\n",
    "def uniform_sample_plane(key)->Plane:\n",
    "    '''samples a,b,c,d such that a+b+c = 1. A plane is characterized by equation ax + by + cz + d = 0\n",
    "    '''\n",
    "    eps = 1e-6\n",
    "    keys = split(key, 3)\n",
    "    a,b = jax.lax.sort(uniform(keys[0], shape=(2,)) * (1-eps) + eps) #avoids degenerate planes\n",
    "    c = (1-b) + eps\n",
    "    b = (b-a)\n",
    "    d = uniform(keys[1])* 10 + eps\n",
    "    return jnp.stack([a,b,c,d])\n",
    "\n",
    "\n",
    "    \n",
    "    \n",
    "uniform_sample_plane(PRNGKey(0))"
   ]
  },
  {
   "cell_type": "code",
   "execution_count": 71,
   "id": "e50df410-36b3-46fa-a604-4af18c8a4e92",
   "metadata": {},
   "outputs": [
    {
     "data": {
      "text/plain": [
       "DeviceArray([[1, 0, 1],\n",
       "             [3, 2, 3],\n",
       "             [5, 4, 5]], dtype=int32)"
      ]
     },
     "execution_count": 71,
     "metadata": {},
     "output_type": "execute_result"
    }
   ],
   "source": [
    "v = jnp.arange(6).reshape(3,2)\n",
    "v[0,1]"
   ]
  },
  {
   "cell_type": "code",
   "execution_count": 288,
   "id": "acc1a959-bc99-4feb-8e1e-3559a26a696e",
   "metadata": {},
   "outputs": [
    {
     "data": {
      "text/plain": [
       "{'faces_planes': DeviceArray([[ 0.41974932,  0.673966  , -0.60793126,  0.59905005],\n",
       "              [ 0.23664416,  0.56536365,  0.7901668 ,  0.4879753 ],\n",
       "              [ 0.87624776, -0.47553533,  0.07782088,  1.6286261 ],\n",
       "              [-0.41974932, -0.673966  ,  0.60793126,  1.40095   ],\n",
       "              [-0.23664416, -0.56536365, -0.7901668 ,  1.5120246 ],\n",
       "              [-0.87624776,  0.47553533, -0.07782088,  0.37137383]],            dtype=float32),\n",
       " 'faces_corners': DeviceArray([[[ 0.43177646,  0.274503  ,  1.5878336 ],\n",
       "               [-1.320719  ,  1.2255738 ,  1.4321918 ],\n",
       "               [-1.7940073 ,  0.09484637, -0.1481418 ]],\n",
       " \n",
       "              [[ 0.79798687,  0.49170768, -1.2083626 ],\n",
       "               [-0.9545087 ,  1.4427783 , -1.3640044 ],\n",
       "               [-1.7940074 ,  0.09484637, -0.1481418 ]],\n",
       " \n",
       "              [[-0.48122042,  2.5735056 ,  0.21632929],\n",
       "               [-0.9545087 ,  1.4427783 , -1.3640043 ],\n",
       "               [-1.7940073 ,  0.09484643, -0.1481418 ]],\n",
       " \n",
       "              [[ 1.271275  ,  1.622435  ,  0.37197107],\n",
       "               [-0.48122042,  2.5735056 ,  0.21632928],\n",
       "               [-0.9545087 ,  1.4427783 , -1.3640044 ]],\n",
       " \n",
       "              [[ 1.2712752 ,  1.622435  ,  0.37197107],\n",
       "               [-0.48122042,  2.5735056 ,  0.21632928],\n",
       "               [-1.3207191 ,  1.2255737 ,  1.4321918 ]],\n",
       " \n",
       "              [[ 1.271275  ,  1.6224349 ,  0.37197107],\n",
       "               [ 0.79798675,  0.49170768, -1.2083625 ],\n",
       "               [-0.04151183, -0.8562243 ,  0.00749998]]], dtype=float32)}"
      ]
     },
     "execution_count": 288,
     "metadata": {},
     "output_type": "execute_result"
    }
   ],
   "source": [
    "def make_corners_from_half_vectors(v1, v2, v3):\n",
    "    \"\"\"make corners keeping v1 static and adding +-v2 and +-v3 to make a box. The last corner isn't necessary.\n",
    "    \"\"\"\n",
    "    a = v2+v3\n",
    "    b = v2-v3\n",
    "    c = -v2-v3\n",
    "    # TODO: how am I supposed to check if this works then?\n",
    "    # assert jnp.all(jnp.abs(jnp.dot(a-b,c-b)) < 1e-4)\n",
    "    return v1[None] + jnp.stack([a,b,c],axis=0)\n",
    "\n",
    "def translate_plane(p: Plane, t:Vector3):\n",
    "    assert p.shape==(4,)\n",
    "    assert t.shape == (3,)\n",
    "    d = p[-1] - (p[:3]*t).sum()[None]\n",
    "    return jnp.concatenate([p[:3], d], axis=0)\n",
    "    \n",
    "                         \n",
    "def sample_box(key):\n",
    "    '''\n",
    "    samples a box, which is a set of box_faces, each box face is a plane and a set of three points in such plane that delimit it.\n",
    "    returns:\n",
    "        Box:\n",
    "            planes: (6,4) array with the 6 planes each belonging to a box_face, planes are parameterized such that ax + by + cz + d = 0\n",
    "            corners: (6,3,3) array with 6 sets of 3 points (each of size 3) where each point is a corner delimiting the box_face. The second point is the corner.\n",
    "    NOTE: the normal of the plane a,b,c is parameterized to look away from the origin. This can be used to check if a ray is hitting it from behind or\n",
    "    from the front. I would assume front is \n",
    "    '''\n",
    "    eps = 1e-6\n",
    "    ks = split(key,3)\n",
    "    \n",
    "    #half sizes\n",
    "    # hx,hy,hz = uniform(ks[0], shape=(3,)) + eps\n",
    "    hx,hy,hz = 1,1,1\n",
    "    \n",
    "    #traslation\n",
    "    t = uniform(ks[2], shape=(3,)) * 2 - 1 #TODO: I need to calibrate this so that I always sample on the field of vision.\n",
    "    # t = t - jnp.array([0,0,4])\n",
    "    # t = jnp.array([0,0,0])\n",
    "    \n",
    "    #rotation\n",
    "    q = sample_quaternion(ks[1])\n",
    "    # q = rot_axis_to_quaternion(jnp.array([0,1,0]),angle=jnp.pi/4)\n",
    "    \n",
    "    planes_d = jnp.stack([hx,hy,hz]).reshape(-1,1)\n",
    "    hs = jnp.eye(3) * planes_d\n",
    "    \n",
    "    v_rotate = vmap(rotate, in_axes=(0,None))\n",
    "    \n",
    "    hs = v_rotate(hs,q)\n",
    "    \n",
    "    corners = []\n",
    "    for i in range(3):\n",
    "        k,j = {0,1,2}.difference({i})\n",
    "        pos = make_corners_from_half_vectors(-hs[i], hs[k], hs[j])\n",
    "        neg = make_corners_from_half_vectors(hs[i], hs[k], hs[j])\n",
    "        corners.append([pos,neg])\n",
    "\n",
    "    corners = jnp.array(corners)\n",
    "    \n",
    "    planes_d = jnp.concatenate([planes_d,planes_d],axis=0)\n",
    "    \n",
    "    normals = jnp.concatenate([jnp.eye(3), -jnp.eye(3)], axis=0)\n",
    "    normals = v_rotate(normals, q)\n",
    "    \n",
    "    box_planes = jnp.concatenate([normals, planes_d], axis=1)\n",
    "    box_planes = vmap(translate_plane, in_axes=(0,None))(box_planes, t)\n",
    "\n",
    "    return dict(faces_planes= box_planes, faces_corners=jnp.concatenate([corners[:,0],corners[:,1]])+t)\n",
    "box = sample_box(PRNGKey(i))\n",
    "for i in range(10):\n",
    "    box = sample_box(PRNGKey(i))\n",
    "    x,y,z = box['faces_corners'][0,0]\n",
    "    d = get_depth_pixel_from_plane(x,y, box['faces_planes'][0])\n",
    "    assert jnp.allclose(d, z, atol=12e-3), (d,z,i, box)\n",
    "box['faces_corners'][0,0], box['faces_planes'][0],get_depth_pixel_from_plane(1.4142,1.0, box['faces_planes'][0])\n",
    "box"
   ]
  },
  {
   "cell_type": "code",
   "execution_count": 278,
   "id": "6471516c-d5ab-481e-a2f9-b34585227485",
   "metadata": {},
   "outputs": [
    {
     "data": {
      "text/plain": [
       "(DeviceArray(True, dtype=bool),\n",
       " DeviceArray([[ 0.       ,  1.0000001,  1.4142137],\n",
       "              [-1.4142137,  1.0000001,  0.       ],\n",
       "              [-1.4142137, -1.0000001,  0.       ]], dtype=float32))"
      ]
     },
     "execution_count": 278,
     "metadata": {},
     "output_type": "execute_result"
    }
   ],
   "source": [
    "def point_in_box_face(d: Point, b:BoxFace):\n",
    "    \"\"\"\n",
    "    Args:\n",
    "        - p: (d,) shaped array including coordinates of point\n",
    "        - b: (3,d) shaped array including 3 points determining the box face, the second (b[1]) must be the corner uniting the other points.\n",
    "    returns:\n",
    "        - true if the point is inside the boxface, i.e the projection of the point to each edge is less than the size of the edge.\n",
    "        \n",
    "    NOTE: this doesn't check it but d should be guaranteed to be on the plane of BoxFace or this would just not work.\n",
    "    \"\"\"\n",
    "    assert d.shape == (3,) and b.shape==(3,3)\n",
    "    e1 = b[0] - b[1]\n",
    "    e2 = b[2] - b[1]\n",
    "    p = d - b[1]\n",
    "\n",
    "    \n",
    "    pr1 = jnp.dot(p,e1)/(jnp.linalg.norm(e1))**2\n",
    "    pr2 = jnp.dot(p,e2)/(jnp.linalg.norm(e2))**2\n",
    "    # print(p,e1,e2,pr1,pr2)\n",
    "    def proj_within(pr):\n",
    "        return (pr >= 0) & (pr <= 1)\n",
    "    \n",
    "    return proj_within(pr1) & proj_within(pr2)\n",
    "\n",
    "point_in_box_face(jnp.array([1.,0,-1]), box['faces_corners'][0]), box['faces_corners'][0]"
   ]
  },
  {
   "cell_type": "code",
   "execution_count": 240,
   "id": "5db8bfcc-cc7c-41e7-a5fc-4af7028791ce",
   "metadata": {},
   "outputs": [],
   "source": [
    "def get_depth_pixel_from_plane(x,y,p:Plane):\n",
    "    \"\"\"does orthographic projection of a pixel and returns the z value, we assume right handed coordinates where z is coming into the camera\n",
    "    the camera is assumed to be at the origin. This function doesn't work with degenerate planes. If the plane is not in \"front\" of the camera (i.e. the z value\n",
    "    is less than 0) then it returs 0\n",
    "    \"\"\"\n",
    "    #TODO should I ignore points that are looking \"away\"? i.e. taking into account the orientation of the normal?.\n",
    "    v = (-p[3] - p[0] * x - p[1]*y)/p[2]\n",
    "    # v = jax.lax.cond(v>0, lambda: 0.0, lambda: v)\n",
    "    return v\n",
    "    # return jnp.array([x,y,(-p.d - p.a * x - p.b*y)/p.c])\n",
    "\n",
    "def get_depth_pixel_from_box_face(x,y, face_plane, face_corners):\n",
    "    z = get_depth_pixel_from_plane(x,y, face_plane)\n",
    "    plane_inter = jnp.array([x,y,z])\n",
    "    return jax.lax.cond(point_in_box_face(plane_inter, face_corners), lambda: z, lambda: -1.0)\n",
    "\n",
    "def get_depth_pixel_from_box(x,y, box):\n",
    "    \"\"\"takes a box dict with 'faces_planes' and 'faces_corners' and returns the depth of the closest intersection with all of the box's planes\n",
    "    \"\"\"\n",
    "    all_depths = vmap(get_depth_pixel_from_box_face, in_axes=(None,None,0,0))(x,y, box['faces_planes'], box['faces_corners'])\n",
    "    return all_depths.max()\n",
    "    \n",
    "render_face = vmap(vmap(get_depth_pixel_from_box_face,in_axes=(None,0,None,None)),in_axes=(0,None,None,None))\n",
    "render_box = vmap(vmap(get_depth_pixel_from_box, in_axes=(None,0,None)), in_axes=(0,None,None))\n",
    "\n",
    "\"\"\"vectorizes over vectors xs and ys to compute the depth in the product of both vectors.\n",
    "\"\"\"\n",
    "render_depth_map = jax.vmap(jax.vmap(get_depth_pixel_from_plane, in_axes=(None,0,None)), in_axes=(0,None,None))\n",
    "\n"
   ]
  },
  {
   "cell_type": "code",
   "execution_count": 321,
   "id": "32e7553e-2305-4073-9e92-6cca5756710f",
   "metadata": {},
   "outputs": [
    {
     "name": "stdout",
     "output_type": "stream",
     "text": [
      "CPU times: user 2.43 s, sys: 84.6 ms, total: 2.51 s\n",
      "Wall time: 664 ms\n"
     ]
    }
   ],
   "source": [
    "%%time\n",
    "box = jax.jit(vmap(sample_box))(split(PRNGKey(22),30000))\n",
    "depth_map = jax.jit(vmap(render_box, in_axes=(None,None,0)))(xs,ys,box)\n",
    "# depth_map.block_until_ready()"
   ]
  },
  {
   "cell_type": "code",
   "execution_count": 300,
   "id": "ba7aa183-b151-4564-9ec8-41e8a60c4812",
   "metadata": {},
   "outputs": [
    {
     "name": "stdout",
     "output_type": "stream",
     "text": [
      "CPU times: user 36 µs, sys: 26 µs, total: 62 µs\n",
      "Wall time: 125 µs\n"
     ]
    },
    {
     "data": {
      "text/plain": [
       "(DeviceArray(1.1052432, dtype=float32),\n",
       " DeviceArray(-1., dtype=float32),\n",
       " {'faces_corners': DeviceArray([[-0.9396394 ,  0.86241996,  0.50175214],\n",
       "               [ 0.9563625 ,  0.75076044, -0.12491378],\n",
       "               [ 0.3276356 ,  0.11477304, -1.9138305 ]], dtype=float32),\n",
       "  'faces_planes': DeviceArray([ 0.04970051, -0.9464477 ,  0.3190091 ,  0.7028723 ], dtype=float32)})"
      ]
     },
     "execution_count": 300,
     "metadata": {},
     "output_type": "execute_result"
    },
    {
     "data": {
      "image/png": "[encoded data removed]",
      "text/plain": [
       "<Figure size 640x480 with 2 Axes>"
      ]
     },
     "metadata": {},
     "output_type": "display_data"
    }
   ],
   "source": [
    "%time\n",
    "box = sample_box(PRNGKey(21))\n",
    "res = 100\n",
    "xs= (jnp.arange(res)/res - 0.5)*8\n",
    "ys= (jnp.arange(res)/res - 0.5)*8\n",
    "def get_i(i):\n",
    "    return lambda x: x[i]\n",
    "i = 0\n",
    "box_face = jax.tree_map(get_i(i), box)\n",
    "# depth_map = render_face(xs,ys,box_face['faces_planes'], box_face['faces_corners'])\n",
    "depth_map = render_box(xs,ys,box)\n",
    "# depth_map = render_depth_map_2(xs,ys,box_face['faces_planes'])\n",
    "fig1, ax2 = plt.subplots(constrained_layout=True)\n",
    "\n",
    "cs = ax2.contourf(xs, ys, depth_map)\n",
    "cbar = fig1.colorbar(cs)\n",
    "depth_map.max(), depth_map.min(), jax.tree_map(lambda x: x[0], box)"
   ]
  },
  {
   "cell_type": "code",
   "execution_count": null,
   "id": "45c691f5-fdd8-42ab-8056-82408e60e3c0",
   "metadata": {},
   "outputs": [],
   "source": []
  }
 ],
 "metadata": {
  "kernelspec": {
   "display_name": "Python 3 (ipykernel)",
   "language": "python",
   "name": "python3"
  },
  "language_info": {
   "codemirror_mode": {
    "name": "ipython",
    "version": 3
   },
   "file_extension": ".py",
   "mimetype": "text/x-python",
   "name": "python",
   "nbconvert_exporter": "python",
   "pygments_lexer": "ipython3",
   "version": "3.10.4"
  }
 },
 "nbformat": 4,
 "nbformat_minor": 5
}
